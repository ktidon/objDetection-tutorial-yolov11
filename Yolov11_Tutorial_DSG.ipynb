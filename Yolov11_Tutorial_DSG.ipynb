{
  "nbformat": 4,
  "nbformat_minor": 0,
  "metadata": {
    "colab": {
      "provenance": [],
      "authorship_tag": "ABX9TyOs9K3HFhX1aHPGzeZAdQpu",
      "include_colab_link": true
    },
    "kernelspec": {
      "name": "python3",
      "display_name": "Python 3"
    },
    "language_info": {
      "name": "python"
    }
  },
  "cells": [
    {
      "cell_type": "markdown",
      "metadata": {
        "id": "view-in-github",
        "colab_type": "text"
      },
      "source": [
        "<a href=\"https://colab.research.google.com/github/ktidon/objDetection-tutorial-yolov11/blob/main/Yolov11_Tutorial_DSG.ipynb\" target=\"_parent\"><img src=\"https://colab.research.google.com/assets/colab-badge.svg\" alt=\"Open In Colab\"/></a>"
      ]
    },
    {
      "cell_type": "code",
      "execution_count": null,
      "metadata": {
        "id": "qgb2y7jmlIFC"
      },
      "outputs": [],
      "source": [
        "#Change your runtime to a T4 GPU\n",
        "!pip install ultralytics\n"
      ]
    },
    {
      "cell_type": "code",
      "source": [
        "#Simply copy-paste your workspace's download code from https://roboflow.com/ and  replace everything in this  block\n",
        "\n",
        "!pip install roboflow\n",
        "\n",
        "from roboflow import Roboflow\n",
        "rf = Roboflow(api_key=\"<API-Key>\") #Do not share your API key with others outside your workspace\n",
        "project = rf.workspace(\"<workspace_name>\").project(\"<project_name>\")\n",
        "version = project.version(1)\n",
        "dataset = version.download(\"yolov11\")\n",
        "\n"
      ],
      "metadata": {
        "id": "B-yE-CuTlObA"
      },
      "execution_count": null,
      "outputs": []
    },
    {
      "cell_type": "code",
      "source": [
        "!yolo detect train data=/content/<folderName>/data.yaml model=yolo11s.pt epochs=200 imgsz=640\n",
        "#here we are using yolo11-small which has a good balance between speed and accuracy\n",
        "#change your folder name to whatever your folder name is"
      ],
      "metadata": {
        "id": "0WAETu97lcpz"
      },
      "execution_count": null,
      "outputs": []
    },
    {
      "cell_type": "code",
      "source": [
        "from ultralytics import YOLO\n",
        "model = YOLO(\"/content/runs/detect/train/weights/last.pt\") #you may also use best.pt\n",
        "\n",
        "source = \"<path/to/dir>\" #path of folder that contains the images you want to use your model on. I usually put mine under contents\n",
        "\n",
        "import os\n",
        "results = model(source, save = True, imgsz = 320) #this saves your images with bounding boxes in the notebook"
      ],
      "metadata": {
        "id": "Y1KXpjRjle6q"
      },
      "execution_count": null,
      "outputs": []
    }
  ]
}